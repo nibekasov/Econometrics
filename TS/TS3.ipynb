{
  "nbformat": 4,
  "nbformat_minor": 0,
  "metadata": {
    "colab": {
      "provenance": []
    },
    "kernelspec": {
      "name": "ir",
      "display_name": "R"
    },
    "language_info": {
      "name": "R"
    }
  },
  "cells": [
    {
      "cell_type": "code",
      "source": [
        "# List of packages to be installed\n",
        "packages <- c(\"zoo\", \"mFilter\", \"forecast\", \"fpp2\", \"devtools\", \"broom\", \"stargazer\", \"tidyr\", \"dynlm\", \"writexl\", \"Ecdat\", \"gdata\", \"rugarch\")\n",
        "\n",
        "# Install packages if they are not already installed\n",
        "for(package_name in packages){\n",
        "  if(!require(package_name, character.only = TRUE)){\n",
        "    install.packages(package_name)\n",
        "    library(package_name, character.only = TRUE)\n",
        "  }\n",
        "}"
      ],
      "metadata": {
        "colab": {
          "base_uri": "https://localhost:8080/"
        },
        "id": "R4_v-2YLkTiB",
        "outputId": "b4db9a58-37e6-4cae-d583-3d20c311451e"
      },
      "execution_count": null,
      "outputs": [
        {
          "output_type": "stream",
          "name": "stderr",
          "text": [
            "Loading required package: zoo\n",
            "\n",
            "Warning message in library(package, lib.loc = lib.loc, character.only = TRUE, logical.return = TRUE, :\n",
            "“there is no package called ‘zoo’”\n",
            "Installing package into ‘/usr/local/lib/R/site-library’\n",
            "(as ‘lib’ is unspecified)\n",
            "\n",
            "\n",
            "Attaching package: ‘zoo’\n",
            "\n",
            "\n",
            "The following objects are masked from ‘package:base’:\n",
            "\n",
            "    as.Date, as.Date.numeric\n",
            "\n",
            "\n",
            "Loading required package: mFilter\n",
            "\n",
            "Warning message in library(package, lib.loc = lib.loc, character.only = TRUE, logical.return = TRUE, :\n",
            "“there is no package called ‘mFilter’”\n",
            "Installing package into ‘/usr/local/lib/R/site-library’\n",
            "(as ‘lib’ is unspecified)\n",
            "\n",
            "Loading required package: forecast\n",
            "\n",
            "Warning message in library(package, lib.loc = lib.loc, character.only = TRUE, logical.return = TRUE, :\n",
            "“there is no package called ‘forecast’”\n",
            "Installing package into ‘/usr/local/lib/R/site-library’\n",
            "(as ‘lib’ is unspecified)\n",
            "\n",
            "also installing the dependencies ‘xts’, ‘TTR’, ‘quadprog’, ‘quantmod’, ‘fracdiff’, ‘lmtest’, ‘Rcpp’, ‘timeDate’, ‘tseries’, ‘urca’, ‘RcppArmadillo’\n",
            "\n",
            "\n",
            "Registered S3 method overwritten by 'quantmod':\n",
            "  method            from\n",
            "  as.zoo.data.frame zoo \n",
            "\n",
            "Loading required package: fpp2\n",
            "\n",
            "Warning message in library(package, lib.loc = lib.loc, character.only = TRUE, logical.return = TRUE, :\n",
            "“there is no package called ‘fpp2’”\n",
            "Installing package into ‘/usr/local/lib/R/site-library’\n",
            "(as ‘lib’ is unspecified)\n",
            "\n",
            "also installing the dependencies ‘expsmooth’, ‘fma’\n",
            "\n",
            "\n",
            "── \u001b[1mAttaching packages\u001b[22m ────────────────────────────────────────────── fpp2 2.5 ──\n",
            "\n",
            "\u001b[32m✔\u001b[39m \u001b[34mggplot2  \u001b[39m 3.4.1     \u001b[32m✔\u001b[39m \u001b[34mexpsmooth\u001b[39m 2.3  \n",
            "\u001b[32m✔\u001b[39m \u001b[34mfma      \u001b[39m 2.5       \n",
            "\n",
            "\n",
            "\n",
            "Loading required package: devtools\n",
            "\n",
            "Loading required package: usethis\n",
            "\n",
            "Loading required package: broom\n",
            "\n",
            "Loading required package: stargazer\n",
            "\n",
            "Warning message in library(package, lib.loc = lib.loc, character.only = TRUE, logical.return = TRUE, :\n",
            "“there is no package called ‘stargazer’”\n",
            "Installing package into ‘/usr/local/lib/R/site-library’\n",
            "(as ‘lib’ is unspecified)\n",
            "\n",
            "\n",
            "Please cite as: \n",
            "\n",
            "\n",
            " Hlavac, Marek (2022). stargazer: Well-Formatted Regression and Summary Statistics Tables.\n",
            "\n",
            " R package version 5.2.3. https://CRAN.R-project.org/package=stargazer \n",
            "\n",
            "\n",
            "Loading required package: tidyr\n",
            "\n",
            "Loading required package: dynlm\n",
            "\n",
            "Warning message in library(package, lib.loc = lib.loc, character.only = TRUE, logical.return = TRUE, :\n",
            "“there is no package called ‘dynlm’”\n",
            "Installing package into ‘/usr/local/lib/R/site-library’\n",
            "(as ‘lib’ is unspecified)\n",
            "\n",
            "also installing the dependencies ‘numDeriv’, ‘SparseM’, ‘MatrixModels’, ‘minqa’, ‘nloptr’, ‘RcppEigen’, ‘carData’, ‘abind’, ‘pbkrtest’, ‘quantreg’, ‘lme4’, ‘car’\n",
            "\n",
            "\n",
            "Loading required package: writexl\n",
            "\n",
            "Warning message in library(package, lib.loc = lib.loc, character.only = TRUE, logical.return = TRUE, :\n",
            "“there is no package called ‘writexl’”\n",
            "Installing package into ‘/usr/local/lib/R/site-library’\n",
            "(as ‘lib’ is unspecified)\n",
            "\n",
            "Loading required package: Ecdat\n",
            "\n",
            "Warning message in library(package, lib.loc = lib.loc, character.only = TRUE, logical.return = TRUE, :\n",
            "“there is no package called ‘Ecdat’”\n",
            "Installing package into ‘/usr/local/lib/R/site-library’\n",
            "(as ‘lib’ is unspecified)\n",
            "\n",
            "also installing the dependencies ‘misc3d’, ‘locfit’, ‘ash’, ‘FNN’, ‘kernlab’, ‘mclust’, ‘multicool’, ‘plot3D’, ‘pracma’, ‘hdrcde’, ‘ks’, ‘bitops’, ‘rainbow’, ‘RCurl’, ‘DEoptimR’, ‘pcaPP’, ‘fds’, ‘deSolve’, ‘leaps’, ‘robustbase’, ‘inline’, ‘rrcov’, ‘fda’, ‘tis’, ‘jpeg’, ‘TeachingDemos’, ‘BMA’, ‘mvtnorm’, ‘Ecfun’\n",
            "\n",
            "\n",
            "Loading required package: Ecfun\n",
            "\n",
            "\n",
            "Attaching package: ‘Ecfun’\n",
            "\n",
            "\n",
            "The following object is masked from ‘package:forecast’:\n",
            "\n",
            "    BoxCox\n",
            "\n",
            "\n",
            "The following object is masked from ‘package:base’:\n",
            "\n",
            "    sign\n",
            "\n",
            "\n",
            "\n",
            "Attaching package: ‘Ecdat’\n",
            "\n",
            "\n",
            "The following object is masked from ‘package:datasets’:\n",
            "\n",
            "    Orange\n",
            "\n",
            "\n",
            "Loading required package: gdata\n",
            "\n",
            "Warning message in library(package, lib.loc = lib.loc, character.only = TRUE, logical.return = TRUE, :\n",
            "“there is no package called ‘gdata’”\n",
            "Installing package into ‘/usr/local/lib/R/site-library’\n",
            "(as ‘lib’ is unspecified)\n",
            "\n",
            "also installing the dependency ‘gtools’\n",
            "\n",
            "\n",
            "gdata: read.xls support for 'XLS' (Excel 97-2004) files ENABLED.\n",
            "\n",
            "\n",
            "\n",
            "gdata: Unable to load perl libaries needed by read.xls()\n",
            "gdata: to support 'XLSX' (Excel 2007+) files.\n",
            "\n",
            "\n",
            "\n",
            "gdata: Run the function 'installXLSXsupport()'\n",
            "gdata: to automatically download and install the perl\n",
            "gdata: libaries needed to support Excel XLS and XLSX formats.\n",
            "\n",
            "\n",
            "Attaching package: ‘gdata’\n",
            "\n",
            "\n",
            "The following object is masked from ‘package:stats’:\n",
            "\n",
            "    nobs\n",
            "\n",
            "\n",
            "The following object is masked from ‘package:utils’:\n",
            "\n",
            "    object.size\n",
            "\n",
            "\n",
            "The following object is masked from ‘package:base’:\n",
            "\n",
            "    startsWith\n",
            "\n",
            "\n",
            "Loading required package: rugarch\n",
            "\n",
            "Warning message in library(package, lib.loc = lib.loc, character.only = TRUE, logical.return = TRUE, :\n",
            "“there is no package called ‘rugarch’”\n",
            "Installing package into ‘/usr/local/lib/R/site-library’\n",
            "(as ‘lib’ is unspecified)\n",
            "\n",
            "also installing the dependencies ‘truncnorm’, ‘DistributionUtils’, ‘GeneralizedHyperbolic’, ‘Rsolnp’, ‘spd’, ‘chron’, ‘SkewHyperbolic’\n",
            "\n",
            "\n",
            "Loading required package: parallel\n",
            "\n",
            "\n",
            "Attaching package: ‘rugarch’\n",
            "\n",
            "\n",
            "The following object is masked from ‘package:stats’:\n",
            "\n",
            "    sigma\n",
            "\n",
            "\n"
          ]
        }
      ]
    },
    {
      "cell_type": "code",
      "source": [
        "setwd('/NGC-DL-CONTAINER-LICENSE')"
      ],
      "metadata": {
        "colab": {
          "base_uri": "https://localhost:8080/",
          "height": 134
        },
        "id": "dmoTEvfxoYzA",
        "outputId": "0c384d86-8115-48c6-ccf3-50688af573a2"
      },
      "execution_count": null,
      "outputs": [
        {
          "output_type": "error",
          "ename": "ERROR",
          "evalue": "ignored",
          "traceback": [
            "Error in setwd(\"/NGC-DL-CONTAINER-LICENSE\"): cannot change working directory\nTraceback:\n",
            "1. setwd(\"/NGC-DL-CONTAINER-LICENSE\")"
          ]
        }
      ]
    },
    {
      "cell_type": "code",
      "source": [
        "# Для исполнения кода потребуются библиотеки\n",
        "\n",
        "\n",
        "library(zoo)\n",
        "library(mFilter)\n",
        "library(forecast)\n",
        "library(fpp2)\n",
        "library(devtools)\n",
        "library(broom)\n",
        "library(stargazer)\n",
        "library(tidyr)\n",
        "library(dynlm)\n",
        "#install.packages(\"writexl\")\n",
        "library(writexl)\n",
        "library(\"Ecdat\") \n",
        "library(\"gdata\")\n",
        "library(\"rugarch\")"
      ],
      "metadata": {
        "id": "ugikTuDQjlSH"
      },
      "execution_count": null,
      "outputs": []
    },
    {
      "cell_type": "code",
      "source": [
        "# Семинар - 3\n",
        "# Использовались примеры из книги Носко и Enders"
      ],
      "metadata": {
        "id": "dc3pXvIFofwn"
      },
      "execution_count": null,
      "outputs": []
    },
    {
      "cell_type": "code",
      "source": [
        "data = read.csv(\"quarterly.csv\")"
      ],
      "metadata": {
        "id": "tD4lk9Xvo5bJ"
      },
      "execution_count": null,
      "outputs": []
    },
    {
      "cell_type": "code",
      "source": [
        "# - 6.2  -\n",
        "# Лекция 2, слайды 42-49\n",
        "###############################################################\n",
        "# Подбор и проверка адекватности моделей\n",
        "\n",
        "rm(list=ls())\n",
        "data = read.csv(\"quarterly.csv\")\n",
        "data$DATE = as.yearqtr(data$DATE, format=\"%YQ%q\")\n",
        "data$spread = data$r5-data$Tbill\n",
        "\n",
        "# подробнее о команде можно прочитать здесь\n",
        "# https://faculty.washington.edu/ezivot/econ589/Introduction_to_the_rugarch_package.pdf\n",
        "\n",
        "# AR(7)\n",
        "spec.ar7 = arfimaspec(mean.model=list(armaOrder=c(7,0),include.mean=TRUE))\n",
        "fit.ar7 = arfimafit(spec=spec.ar7,data=data$spread)\n",
        "fit.ar7\n",
        "res.ar7 = fit.ar7@fit$residuals\n",
        "Box.test(res.ar7,lag=4,type=\"Ljung-Box\")\n",
        "Box.test(res.ar7,lag=8,type=\"Ljung-Box\")\n",
        "Box.test(res.ar7,lag=12,type=\"Ljung-Box\")\n",
        "# Ljung-Box тест указывает на адекватность AR(7) модели"
      ],
      "metadata": {
        "colab": {
          "base_uri": "https://localhost:8080/",
          "height": 1000
        },
        "id": "wIzpr4rMpYzb",
        "outputId": "b423b129-f467-472b-a34e-ee0fa755938b"
      },
      "execution_count": null,
      "outputs": [
        {
          "output_type": "display_data",
          "data": {
            "text/plain": [
              "\n",
              "*----------------------------------*\n",
              "*          ARFIMA Model Fit        *\n",
              "*----------------------------------*\n",
              "Mean Model\t: ARFIMA(7,0,0)\n",
              "Distribution\t: norm \n",
              "\n",
              "Optimal Parameters\n",
              "------------------------------------\n",
              "       Estimate  Std. Error  t value Pr(>|t|)\n",
              "mu      1.24639    0.124005  10.0512 0.000000\n",
              "ar1     1.11259    0.068363  16.2747 0.000000\n",
              "ar2    -0.45026    0.100696  -4.4715 0.000008\n",
              "ar3     0.39592    0.104228   3.7986 0.000146\n",
              "ar4    -0.29545    0.105739  -2.7942 0.005203\n",
              "ar5     0.21739    0.104134   2.0876 0.036833\n",
              "ar6    -0.29680    0.100529  -2.9524 0.003153\n",
              "ar7     0.13642    0.068440   1.9933 0.046224\n",
              "sigma   0.45701    0.022194  20.5913 0.000000\n",
              "\n",
              "Robust Standard Errors:\n",
              "       Estimate  Std. Error  t value Pr(>|t|)\n",
              "mu      1.24639    0.093718  13.2994 0.000000\n",
              "ar1     1.11259    0.065099  17.0907 0.000000\n",
              "ar2    -0.45026    0.134588  -3.3454 0.000822\n",
              "ar3     0.39592    0.149644   2.6458 0.008151\n",
              "ar4    -0.29545    0.156437  -1.8886 0.058941\n",
              "ar5     0.21739    0.198263   1.0965 0.272868\n",
              "ar6    -0.29680    0.129607  -2.2900 0.022021\n",
              "ar7     0.13642    0.055772   2.4461 0.014441\n",
              "sigma   0.45701    0.055521   8.2313 0.000000\n",
              "\n",
              "LogLikelihood : -134.8088 \n",
              "\n",
              "Information Criteria\n",
              "------------------------------------\n",
              "                   \n",
              "Akaike       1.3567\n",
              "Bayes        1.4992\n",
              "Shibata      1.3533\n",
              "Hannan-Quinn 1.4143\n",
              "\n",
              "Weighted Ljung-Box Test on Standardized Residuals\n",
              "------------------------------------\n",
              "                         statistic p-value\n",
              "Lag[1]                   4.235e-04  0.9836\n",
              "Lag[2*(p+q)+(p+q)-1][20] 9.188e+00  0.9892\n",
              "Lag[4*(p+q)+(p+q)-1][34] 1.588e+01  0.6832\n",
              "\n",
              "H0 : No serial correlation\n",
              "\n",
              "Weighted Ljung-Box Test on Standardized Squared Residuals\n",
              "------------------------------------\n",
              "                        statistic   p-value\n",
              "Lag[1]                     0.5592 4.546e-01\n",
              "Lag[2*(p+q)+(p+q)-1][2]    3.5081 1.023e-01\n",
              "Lag[4*(p+q)+(p+q)-1][5]   22.4595 4.060e-06\n",
              "\n",
              "\n",
              "ARCH LM Tests\n",
              "------------------------------------\n",
              "             Statistic DoF   P-Value\n",
              "ARCH Lag[2]      6.131   2 4.663e-02\n",
              "ARCH Lag[5]     38.287   5 3.305e-07\n",
              "ARCH Lag[10]    47.030  10 9.325e-07\n",
              "\n",
              "Nyblom stability test\n",
              "------------------------------------\n",
              "Joint Statistic:  1.479\n",
              "Individual Statistics:             \n",
              "mu    0.08265\n",
              "ar1   0.05012\n",
              "ar2   0.03325\n",
              "ar3   0.03620\n",
              "ar4   0.03625\n",
              "ar5   0.04844\n",
              "ar6   0.05618\n",
              "ar7   0.03728\n",
              "sigma 0.40724\n",
              "\n",
              "Asymptotic Critical Values (10% 5% 1%)\n",
              "Joint Statistic:     \t 2.1 2.32 2.82\n",
              "Individual Statistic:\t 0.35 0.47 0.75\n",
              "\n",
              "\n",
              "Elapsed time : 0.09382486 \n"
            ]
          },
          "metadata": {}
        },
        {
          "output_type": "display_data",
          "data": {
            "text/plain": [
              "\n",
              "\tBox-Ljung test\n",
              "\n",
              "data:  res.ar7\n",
              "X-squared = 0.18971, df = 4, p-value = 0.9958\n"
            ]
          },
          "metadata": {}
        },
        {
          "output_type": "display_data",
          "data": {
            "text/plain": [
              "\n",
              "\tBox-Ljung test\n",
              "\n",
              "data:  res.ar7\n",
              "X-squared = 5.586, df = 8, p-value = 0.6935\n"
            ]
          },
          "metadata": {}
        },
        {
          "output_type": "display_data",
          "data": {
            "text/plain": [
              "\n",
              "\tBox-Ljung test\n",
              "\n",
              "data:  res.ar7\n",
              "X-squared = 13.342, df = 12, p-value = 0.3447\n"
            ]
          },
          "metadata": {}
        }
      ]
    },
    {
      "cell_type": "code",
      "source": [
        "\n",
        "\n",
        "\n",
        "#ARMA(2,[1,7])\n",
        "spec.arma27 = arfimaspec(mean.model=list(armaOrder=c(2,7),include.mean=TRUE),\n",
        "                         fixed.pars=list(ma2=0,ma3=0,ma4=0,ma5=0,ma6=0))\n",
        "fit.arma27 = arfimafit(spec=spec.arma27,data=data$spread,solver=\"gosolnp\")\n",
        "fit.arma27\n",
        "res.arma27 = fit.arma27@fit$residuals\n",
        "Box.test(res.arma27,lag=4,type=\"Ljung-Box\")\n",
        "Box.test(res.arma27,lag=8,type=\"Ljung-Box\")\n",
        "Box.test(res.arma27,lag=12,type=\"Ljung-Box\")\n",
        "\n",
        "###############################################################"
      ],
      "metadata": {
        "colab": {
          "base_uri": "https://localhost:8080/",
          "height": 1000
        },
        "id": "GnueCaTtozzT",
        "outputId": "2bfd8eba-aabe-4aab-81c3-889600589278"
      },
      "execution_count": null,
      "outputs": [
        {
          "output_type": "display_data",
          "data": {
            "text/plain": [
              "\n",
              "*----------------------------------*\n",
              "*          ARFIMA Model Fit        *\n",
              "*----------------------------------*\n",
              "Mean Model\t: ARFIMA(2,0,7)\n",
              "Distribution\t: norm \n",
              "\n",
              "Optimal Parameters\n",
              "------------------------------------\n",
              "       Estimate  Std. Error  t value Pr(>|t|)\n",
              "mu      1.13382    0.163039   6.9543 0.000000\n",
              "ar1     0.35278    0.119415   2.9542 0.003135\n",
              "ar2     0.39321    0.113531   3.4634 0.000533\n",
              "ma1     0.77861    0.090296   8.6229 0.000000\n",
              "ma2     0.00000          NA       NA       NA\n",
              "ma3     0.00000          NA       NA       NA\n",
              "ma4     0.00000          NA       NA       NA\n",
              "ma5     0.00000          NA       NA       NA\n",
              "ma6     0.00000          NA       NA       NA\n",
              "ma7    -0.13889    0.039820  -3.4879 0.000487\n",
              "sigma   0.45603    0.022147  20.5913 0.000000\n",
              "\n",
              "Robust Standard Errors:\n",
              "       Estimate  Std. Error  t value Pr(>|t|)\n",
              "mu      1.13382    0.154630   7.3324 0.000000\n",
              "ar1     0.35278    0.155800   2.2643 0.023556\n",
              "ar2     0.39321    0.152222   2.5831 0.009791\n",
              "ma1     0.77861    0.130097   5.9849 0.000000\n",
              "ma2     0.00000          NA       NA       NA\n",
              "ma3     0.00000          NA       NA       NA\n",
              "ma4     0.00000          NA       NA       NA\n",
              "ma5     0.00000          NA       NA       NA\n",
              "ma6     0.00000          NA       NA       NA\n",
              "ma7    -0.13889    0.047407  -2.9297 0.003393\n",
              "sigma   0.45603    0.037580  12.1349 0.000000\n",
              "\n",
              "LogLikelihood : -134.3523 \n",
              "\n",
              "Information Criteria\n",
              "------------------------------------\n",
              "                   \n",
              "Akaike       1.3241\n",
              "Bayes        1.4191\n",
              "Shibata      1.3225\n",
              "Hannan-Quinn 1.3625\n",
              "\n",
              "Weighted Ljung-Box Test on Standardized Residuals\n",
              "------------------------------------\n",
              "                         statistic p-value\n",
              "Lag[1]                   4.272e-04  0.9835\n",
              "Lag[2*(p+q)+(p+q)-1][26] 1.116e+01  1.0000\n",
              "Lag[4*(p+q)+(p+q)-1][44] 1.929e+01  0.8183\n",
              "\n",
              "H0 : No serial correlation\n",
              "\n",
              "Weighted Ljung-Box Test on Standardized Squared Residuals\n",
              "------------------------------------\n",
              "                        statistic   p-value\n",
              "Lag[1]                     0.4402 5.070e-01\n",
              "Lag[2*(p+q)+(p+q)-1][2]    3.8917 8.063e-02\n",
              "Lag[4*(p+q)+(p+q)-1][5]   19.6928 2.355e-05\n",
              "\n",
              "\n",
              "ARCH LM Tests\n",
              "------------------------------------\n",
              "             Statistic DoF   P-Value\n",
              "ARCH Lag[2]      7.013   2 2.999e-02\n",
              "ARCH Lag[5]     30.923   5 9.701e-06\n",
              "ARCH Lag[10]    50.000  10 2.669e-07\n",
              "\n",
              "Nyblom stability test\n",
              "------------------------------------\n",
              "Joint Statistic:  1.0001\n",
              "Individual Statistics:             \n",
              "mu    0.22662\n",
              "ar1   0.03552\n",
              "ar2   0.06124\n",
              "ma1   0.07597\n",
              "ma7   0.07111\n",
              "sigma 0.44769\n",
              "\n",
              "Asymptotic Critical Values (10% 5% 1%)\n",
              "Joint Statistic:     \t 1.49 1.68 2.12\n",
              "Individual Statistic:\t 0.35 0.47 0.75\n",
              "\n",
              "\n",
              "Elapsed time : 0.09421134 \n"
            ]
          },
          "metadata": {}
        },
        {
          "output_type": "display_data",
          "data": {
            "text/plain": [
              "\n",
              "\tBox-Ljung test\n",
              "\n",
              "data:  res.arma27\n",
              "X-squared = 0.71727, df = 4, p-value = 0.9492\n"
            ]
          },
          "metadata": {}
        },
        {
          "output_type": "display_data",
          "data": {
            "text/plain": [
              "\n",
              "\tBox-Ljung test\n",
              "\n",
              "data:  res.arma27\n",
              "X-squared = 2.7719, df = 8, p-value = 0.9478\n"
            ]
          },
          "metadata": {}
        },
        {
          "output_type": "display_data",
          "data": {
            "text/plain": [
              "\n",
              "\tBox-Ljung test\n",
              "\n",
              "data:  res.arma27\n",
              "X-squared = 11.076, df = 12, p-value = 0.5224\n"
            ]
          },
          "metadata": {}
        }
      ]
    },
    {
      "cell_type": "code",
      "source": [
        "\n",
        "\n",
        "# - 6.3  -\n",
        "\n",
        "# определим длину исходного периода \n",
        "length(data$DATE) -50\n",
        "\n",
        "which(data$DATE==\"2000 Q2\")\n",
        "data$DATE[162]\n",
        "actual = data$spread[-c(1:162)]"
      ],
      "metadata": {
        "colab": {
          "base_uri": "https://localhost:8080/",
          "height": 70
        },
        "id": "bACEYpXdrfDi",
        "outputId": "63e70fa7-1482-48ae-98d7-f6b284777f20"
      },
      "execution_count": null,
      "outputs": [
        {
          "output_type": "display_data",
          "data": {
            "text/html": [
              "162"
            ],
            "text/markdown": "162",
            "text/latex": "162",
            "text/plain": [
              "[1] 162"
            ]
          },
          "metadata": {}
        },
        {
          "output_type": "display_data",
          "data": {
            "text/html": [
              "162"
            ],
            "text/markdown": "162",
            "text/latex": "162",
            "text/plain": [
              "[1] 162"
            ]
          },
          "metadata": {}
        },
        {
          "output_type": "display_data",
          "data": {
            "text/plain": [
              "[1] \"2000 Q2\""
            ]
          },
          "metadata": {}
        }
      ]
    },
    {
      "cell_type": "code",
      "source": [
        "### цикл для одношагового предсказания по двум моделям ar7 и arma27\n",
        "fore.arma27 = fore.ar7 = NULL\n",
        "for (i in 1:50){\n",
        "  fit.ar7=arfimafit(spec=spec.ar7,data=data$spread[1:(162+i-1)],solver=\"gosolnp\")\n",
        "  fore.ar7[i]=arfimaforecast(fit.ar7,n.ahead=1)@forecast$seriesFor\n",
        "  fit.arma27=arfimafit(spec=spec.arma27,data=data$spread[1:(162+i-1)],solver=\"gosolnp\")\n",
        "  fore.arma27[i]=arfimaforecast(fit.arma27,n.ahead=1)@forecast$seriesFor\n",
        "}\n",
        "mean(fore.ar7)\n",
        "mean(fore.arma27)\n",
        "var(fore.ar7)\n",
        "var(fore.arma27)"
      ],
      "metadata": {
        "colab": {
          "base_uri": "https://localhost:8080/",
          "height": 86
        },
        "id": "M-BcQnaysL38",
        "outputId": "f544026a-c6da-4bd5-b7bb-59d77e31ff50"
      },
      "execution_count": null,
      "outputs": [
        {
          "output_type": "display_data",
          "data": {
            "text/html": [
              "1.24835037727542"
            ],
            "text/markdown": "1.24835037727542",
            "text/latex": "1.24835037727542",
            "text/plain": [
              "[1] 1.24835"
            ]
          },
          "metadata": {}
        },
        {
          "output_type": "display_data",
          "data": {
            "text/html": [
              "1.22964728547304"
            ],
            "text/markdown": "1.22964728547304",
            "text/latex": "1.22964728547304",
            "text/plain": [
              "[1] 1.229647"
            ]
          },
          "metadata": {}
        },
        {
          "output_type": "display_data",
          "data": {
            "text/html": [
              "0.632678725119516"
            ],
            "text/markdown": "0.632678725119516",
            "text/latex": "0.632678725119516",
            "text/plain": [
              "[1] 0.6326787"
            ]
          },
          "metadata": {}
        },
        {
          "output_type": "display_data",
          "data": {
            "text/html": [
              "0.607157858601077"
            ],
            "text/markdown": "0.607157858601077",
            "text/latex": "0.607157858601077",
            "text/plain": [
              "[1] 0.6071579"
            ]
          },
          "metadata": {}
        }
      ]
    },
    {
      "cell_type": "code",
      "source": [
        "# - 6.4  -\n",
        "\n",
        "### Среднее и дисперсия ошибок прогнозирования\n",
        "fore.error.ar7 = fore.ar7-actual\n",
        "fore.error.arma27 = fore.arma27-actual\n",
        "mean(fore.error.ar7)\n",
        "mean(fore.error.arma27)\n",
        "var(fore.error.ar7)\n",
        "var(fore.error.arma27)\n",
        "var(actual)"
      ],
      "metadata": {
        "colab": {
          "base_uri": "https://localhost:8080/",
          "height": 104
        },
        "id": "8IZliD6quStI",
        "outputId": "af393d9f-8826-4d19-b485-08ec40a54e78"
      },
      "execution_count": null,
      "outputs": [
        {
          "output_type": "display_data",
          "data": {
            "text/html": [
              "-0.00504962272457754"
            ],
            "text/markdown": "-0.00504962272457754",
            "text/latex": "-0.00504962272457754",
            "text/plain": [
              "[1] -0.005049623"
            ]
          },
          "metadata": {}
        },
        {
          "output_type": "display_data",
          "data": {
            "text/html": [
              "-0.0237527145269617"
            ],
            "text/markdown": "-0.0237527145269617",
            "text/latex": "-0.0237527145269617",
            "text/plain": [
              "[1] -0.02375271"
            ]
          },
          "metadata": {}
        },
        {
          "output_type": "display_data",
          "data": {
            "text/html": [
              "0.185666935270876"
            ],
            "text/markdown": "0.185666935270876",
            "text/latex": "0.185666935270876",
            "text/plain": [
              "[1] 0.1856669"
            ]
          },
          "metadata": {}
        },
        {
          "output_type": "display_data",
          "data": {
            "text/html": [
              "0.168019268449317"
            ],
            "text/markdown": "0.168019268449317",
            "text/latex": "0.168019268449317",
            "text/plain": [
              "[1] 0.1680193"
            ]
          },
          "metadata": {}
        },
        {
          "output_type": "display_data",
          "data": {
            "text/html": [
              "0.781108612244898"
            ],
            "text/markdown": "0.781108612244898",
            "text/latex": "0.781108612244898",
            "text/plain": [
              "[1] 0.7811086"
            ]
          },
          "metadata": {}
        }
      ]
    },
    {
      "cell_type": "code",
      "source": [
        "\n",
        "###############################################################\n",
        "# Сравнение качества прогнозов\n",
        "summary(lm(actual~fore.ar7))\n",
        "summary(lm(actual~fore.arma27))\n",
        "\n",
        "plot(actual, type=\"l\",xlab=\"\",ylab=\"\")\n",
        "lines(fore.ar7, col=2)\n",
        "lines(fore.arma27, col=3)\n"
      ],
      "metadata": {
        "colab": {
          "base_uri": "https://localhost:8080/",
          "height": 1000
        },
        "id": "_glHKqmauW9d",
        "outputId": "baa27d76-03ed-4d99-947f-3c84a04e7820"
      },
      "execution_count": null,
      "outputs": [
        {
          "output_type": "display_data",
          "data": {
            "text/plain": [
              "\n",
              "Call:\n",
              "lm(formula = actual ~ fore.ar7)\n",
              "\n",
              "Residuals:\n",
              "     Min       1Q   Median       3Q      Max \n",
              "-0.96282 -0.24039 -0.02416  0.19295  0.99870 \n",
              "\n",
              "Coefficients:\n",
              "            Estimate Std. Error t value Pr(>|t|)    \n",
              "(Intercept)  0.04179    0.11523   0.363    0.718    \n",
              "fore.ar7     0.97057    0.07808  12.431   <2e-16 ***\n",
              "---\n",
              "Signif. codes:  0 ‘***’ 0.001 ‘**’ 0.01 ‘*’ 0.05 ‘.’ 0.1 ‘ ’ 1\n",
              "\n",
              "Residual standard error: 0.4347 on 48 degrees of freedom\n",
              "Multiple R-squared:  0.763,\tAdjusted R-squared:  0.7581 \n",
              "F-statistic: 154.5 on 1 and 48 DF,  p-value: < 2.2e-16\n"
            ]
          },
          "metadata": {}
        },
        {
          "output_type": "display_data",
          "data": {
            "text/plain": [
              "\n",
              "Call:\n",
              "lm(formula = actual ~ fore.arma27)\n",
              "\n",
              "Residuals:\n",
              "     Min       1Q   Median       3Q      Max \n",
              "-0.95419 -0.28529 -0.04023  0.20314  0.97345 \n",
              "\n",
              "Coefficients:\n",
              "            Estimate Std. Error t value Pr(>|t|)    \n",
              "(Intercept)  0.01775    0.11021   0.161    0.873    \n",
              "fore.arma27  1.00488    0.07593  13.235   <2e-16 ***\n",
              "---\n",
              "Signif. codes:  0 ‘***’ 0.001 ‘**’ 0.01 ‘*’ 0.05 ‘.’ 0.1 ‘ ’ 1\n",
              "\n",
              "Residual standard error: 0.4141 on 48 degrees of freedom\n",
              "Multiple R-squared:  0.7849,\tAdjusted R-squared:  0.7804 \n",
              "F-statistic: 175.2 on 1 and 48 DF,  p-value: < 2.2e-16\n"
            ]
          },
          "metadata": {}
        },
        {
          "output_type": "display_data",
          "data": {
            "text/plain": [
              "plot without title"
            ],
            "image/png": "[encoded data removed]"
          },
          "metadata": {
            "image/png": {
              "width": 420,
              "height": 420
            }
          }
        }
      ]
    },
    {
      "cell_type": "code",
      "source": [
        "# - 6.5  -\n",
        "\n",
        "### GRANGER-NEWBOLD TEST\n",
        "x = fore.error.ar7+fore.error.arma27\n",
        "z = fore.error.ar7-fore.error.arma27\n",
        "corxz = cor(z,x)\n",
        "corxz\n",
        "corxz/( sqrt( (1-corxz^2)/(length(fore.error.ar7)-1)))\n",
        "# значение 1.70 статистически незначимо для t(49)\n"
      ],
      "metadata": {
        "colab": {
          "base_uri": "https://localhost:8080/",
          "height": 52
        },
        "id": "2qtlhsQywXMj",
        "outputId": "40c4ffcc-9173-4bd9-a33b-2d89b835e0ee"
      },
      "execution_count": null,
      "outputs": [
        {
          "output_type": "display_data",
          "data": {
            "text/html": [
              "0.236203758557734"
            ],
            "text/markdown": "0.236203758557734",
            "text/latex": "0.236203758557734",
            "text/plain": [
              "[1] 0.2362038"
            ]
          },
          "metadata": {}
        },
        {
          "output_type": "display_data",
          "data": {
            "text/html": [
              "1.70157484138679"
            ],
            "text/markdown": "1.70157484138679",
            "text/latex": "1.70157484138679",
            "text/plain": [
              "[1] 1.701575"
            ]
          },
          "metadata": {}
        }
      ]
    },
    {
      "cell_type": "code",
      "source": [
        "\n",
        "\n",
        "\n",
        "\n",
        "\n",
        "\n",
        "\n",
        "\n",
        "### DIEBOLD-MARIANO TEST\n",
        "dm.test(fore.error.ar7,fore.error.arma27, h=1, power=4)\n",
        "\n",
        "d = (fore.error.ar7)^4-(fore.error.arma27)^4\n",
        "DM = mean(d)/(var(d)/(length(d)-1))^0.5\n",
        "DM\n",
        "# t(49) (двустороннее) критическое значение на 5% = 2.01\n",
        "#                                           на 1% = 2.68\n",
        "acf.d = acf(d)\n",
        "acf.d\n",
        "Box.test(d,lag=4,type=\"Ljung-Box\")\n",
        "Box.test(d,lag=8,type=\"Ljung-Box\")\n",
        "Box.test(d,lag=12,type=\"Ljung-Box\")\n"
      ],
      "metadata": {
        "colab": {
          "base_uri": "https://localhost:8080/",
          "height": 975
        },
        "id": "S8JFL-dQxJjo",
        "outputId": "5a5ae0a9-3de0-4e8f-ebae-3e558a544ac6"
      },
      "execution_count": null,
      "outputs": [
        {
          "output_type": "display_data",
          "data": {
            "text/plain": [
              "\n",
              "\tDiebold-Mariano Test\n",
              "\n",
              "data:  fore.error.ar7fore.error.arma27\n",
              "DM = 2.0584, Forecast horizon = 1, Loss function power = 4, p-value =\n",
              "0.04489\n",
              "alternative hypothesis: two.sided\n"
            ]
          },
          "metadata": {}
        },
        {
          "output_type": "display_data",
          "data": {
            "text/html": [
              "2.03773525760085"
            ],
            "text/markdown": "2.03773525760085",
            "text/latex": "2.03773525760085",
            "text/plain": [
              "[1] 2.037735"
            ]
          },
          "metadata": {}
        },
        {
          "output_type": "display_data",
          "data": {
            "text/plain": [
              "\n",
              "Autocorrelations of series ‘d’, by lag\n",
              "\n",
              "     0      1      2      3      4      5      6      7      8      9     10 \n",
              " 1.000 -0.080 -0.212  0.117  0.063  0.258 -0.043 -0.086  0.235 -0.011 -0.018 \n",
              "    11     12     13     14     15     16 \n",
              "-0.030  0.085  0.016 -0.012 -0.030  0.051 "
            ]
          },
          "metadata": {}
        },
        {
          "output_type": "display_data",
          "data": {
            "text/plain": [
              "\n",
              "\tBox-Ljung test\n",
              "\n",
              "data:  d\n",
              "X-squared = 3.7516, df = 4, p-value = 0.4407\n"
            ]
          },
          "metadata": {}
        },
        {
          "output_type": "display_data",
          "data": {
            "text/plain": [
              "\n",
              "\tBox-Ljung test\n",
              "\n",
              "data:  d\n",
              "X-squared = 11.552, df = 8, p-value = 0.1723\n"
            ]
          },
          "metadata": {}
        },
        {
          "output_type": "display_data",
          "data": {
            "text/plain": [
              "\n",
              "\tBox-Ljung test\n",
              "\n",
              "data:  d\n",
              "X-squared = 12.136, df = 12, p-value = 0.4348\n"
            ]
          },
          "metadata": {}
        },
        {
          "output_type": "display_data",
          "data": {
            "text/plain": [
              "Plot with title “Series  d”"
            ],
            "image/png": "[encoded data removed]"
          },
          "metadata": {
            "image/png": {
              "width": 420,
              "height": 420
            }
          }
        }
      ]
    },
    {
      "cell_type": "code",
      "source": [
        "\n",
        "\n",
        "# - 6.6  -\n",
        "#можно перезагрузить данные\n",
        "### НЕСТАБИЛЬНОСТЬ ПАРАМЕТРОВ\n",
        "rm(list=ls())\n",
        "data = read.csv(\"quarterly.csv\")\n",
        "data$DATE = as.yearqtr(data$DATE)\n",
        "data$spread = data$r5-data$Tbill\n",
        "\n",
        "# определим временные промужетки\n",
        "which(data$DATE==\"1960 Q1\")\n",
        "which(data$DATE==\"1981 Q4\")\n",
        "which(data$DATE==\"2008 Q1\")"
      ],
      "metadata": {
        "colab": {
          "base_uri": "https://localhost:8080/",
          "height": 69
        },
        "id": "2Hz00SB4ySER",
        "outputId": "58d6d660-e367-4495-a843-53e1aab834ce"
      },
      "execution_count": null,
      "outputs": [
        {
          "output_type": "display_data",
          "data": {
            "text/html": [
              "1"
            ],
            "text/markdown": "1",
            "text/latex": "1",
            "text/plain": [
              "[1] 1"
            ]
          },
          "metadata": {}
        },
        {
          "output_type": "display_data",
          "data": {
            "text/html": [
              "88"
            ],
            "text/markdown": "88",
            "text/latex": "88",
            "text/plain": [
              "[1] 88"
            ]
          },
          "metadata": {}
        },
        {
          "output_type": "display_data",
          "data": {
            "text/html": [
              "193"
            ],
            "text/markdown": "193",
            "text/latex": "193",
            "text/plain": [
              "[1] 193"
            ]
          },
          "metadata": {}
        }
      ]
    },
    {
      "cell_type": "code",
      "source": [
        "\n",
        "\n",
        "\n",
        "#ARMA(2,[1,7]) \n",
        "spec.arma27 = arfimaspec(mean.model=list(armaOrder=c(2,7),include.mean=TRUE),\n",
        "                         fixed.pars=list(ma2=0,ma3=0,ma4=0,ma5=0,ma6=0))\n",
        "\n",
        "#оцениваем модель на отрезке 1960 Q3–1981 Q4 (pre) и отрезке 1982 Q1–2008 Q1 (post)\n",
        "fit.arma27.pre = arfimafit(spec=spec.arma27,data=data$spread[1:88],solver=\"gosolnp\")\n",
        "fit.arma27.pre\n",
        "fit.arma27.post = arfimafit(spec=spec.arma27,data=data$spread[89:193],solver=\"gosolnp\")\n",
        "fit.arma27.post\n",
        "fit.arma27.all = arfimafit(spec=spec.arma27,data=data$spread[1:193],solver=\"gosolnp\")\n",
        "fit.arma27.all\n",
        "SSR1 = sum(fit.arma27.pre@fit$residuals^2)\n",
        "SSR2 = sum(fit.arma27.post@fit$residuals^2)\n",
        "SSRunrest = SSR1 +SSR2\n",
        "SSR = sum(fit.arma27.all@fit$residuals^2)\n",
        "n=5\n",
        "T = 193\n",
        "((SSR - SSRunrest)/n)/((SSRunrest)/(T-2*n))\n",
        "#F(5,181) критическое значение на 10% = 1.879\n",
        "#                               на 5% = 2.264\n",
        "\n"
      ],
      "metadata": {
        "colab": {
          "base_uri": "https://localhost:8080/",
          "height": 1000
        },
        "id": "DdyTVjY_ycSF",
        "outputId": "41f76b4e-0cb5-40e7-88a0-2e145cc7f1d1"
      },
      "execution_count": null,
      "outputs": [
        {
          "output_type": "display_data",
          "data": {
            "text/plain": [
              "\n",
              "*----------------------------------*\n",
              "*          ARFIMA Model Fit        *\n",
              "*----------------------------------*\n",
              "Mean Model\t: ARFIMA(2,0,7)\n",
              "Distribution\t: norm \n",
              "\n",
              "Optimal Parameters\n",
              "------------------------------------\n",
              "       Estimate  Std. Error  t value Pr(>|t|)\n",
              "mu      1.00124    0.159521   6.2766 0.000000\n",
              "ar1     0.33220    0.121477   2.7347 0.006244\n",
              "ar2     0.32246    0.118192   2.7283 0.006366\n",
              "ma1     0.95692    0.049881  19.1841 0.000000\n",
              "ma2     0.00000          NA       NA       NA\n",
              "ma3     0.00000          NA       NA       NA\n",
              "ma4     0.00000          NA       NA       NA\n",
              "ma5     0.00000          NA       NA       NA\n",
              "ma6     0.00000          NA       NA       NA\n",
              "ma7    -0.13855    0.060387  -2.2943 0.021773\n",
              "sigma   0.45289    0.034138  13.2665 0.000000\n",
              "\n",
              "Robust Standard Errors:\n",
              "       Estimate  Std. Error  t value Pr(>|t|)\n",
              "mu      1.00124    0.113800   8.7983 0.000000\n",
              "ar1     0.33220    0.141316   2.3508 0.018735\n",
              "ar2     0.32246    0.153110   2.1061 0.035196\n",
              "ma1     0.95692    0.042007  22.7800 0.000000\n",
              "ma2     0.00000          NA       NA       NA\n",
              "ma3     0.00000          NA       NA       NA\n",
              "ma4     0.00000          NA       NA       NA\n",
              "ma5     0.00000          NA       NA       NA\n",
              "ma6     0.00000          NA       NA       NA\n",
              "ma7    -0.13855    0.105234  -1.3165 0.187991\n",
              "sigma   0.45289    0.060567   7.4776 0.000000\n",
              "\n",
              "LogLikelihood : -55.16185 \n",
              "\n",
              "Information Criteria\n",
              "------------------------------------\n",
              "                   \n",
              "Akaike       1.3900\n",
              "Bayes        1.5590\n",
              "Shibata      1.3815\n",
              "Hannan-Quinn 1.4581\n",
              "\n",
              "Weighted Ljung-Box Test on Standardized Residuals\n",
              "------------------------------------\n",
              "                         statistic p-value\n",
              "Lag[1]                     0.03266  0.8566\n",
              "Lag[2*(p+q)+(p+q)-1][26]   7.97956  1.0000\n",
              "Lag[4*(p+q)+(p+q)-1][44]  13.52134  0.9984\n",
              "\n",
              "H0 : No serial correlation\n",
              "\n",
              "Weighted Ljung-Box Test on Standardized Squared Residuals\n",
              "------------------------------------\n",
              "                        statistic p-value\n",
              "Lag[1]                  5.634e-04 0.98106\n",
              "Lag[2*(p+q)+(p+q)-1][2] 5.136e+00 0.03740\n",
              "Lag[4*(p+q)+(p+q)-1][5] 1.261e+01 0.00193\n",
              "\n",
              "\n",
              "ARCH LM Tests\n",
              "------------------------------------\n",
              "             Statistic DoF  P-Value\n",
              "ARCH Lag[2]      10.58   2 0.005052\n",
              "ARCH Lag[5]      17.91   5 0.003056\n",
              "ARCH Lag[10]     20.30  10 0.026510\n",
              "\n",
              "Nyblom stability test\n",
              "------------------------------------\n",
              "Joint Statistic:  2.0248\n",
              "Individual Statistics:             \n",
              "mu    0.05716\n",
              "ar1   0.04578\n",
              "ar2   0.21520\n",
              "ma1   0.18690\n",
              "ma7   0.09372\n",
              "sigma 1.26684\n",
              "\n",
              "Asymptotic Critical Values (10% 5% 1%)\n",
              "Joint Statistic:     \t 1.49 1.68 2.12\n",
              "Individual Statistic:\t 0.35 0.47 0.75\n",
              "\n",
              "\n",
              "Elapsed time : 0.09538865 \n"
            ]
          },
          "metadata": {}
        },
        {
          "output_type": "display_data",
          "data": {
            "text/plain": [
              "\n",
              "*----------------------------------*\n",
              "*          ARFIMA Model Fit        *\n",
              "*----------------------------------*\n",
              "Mean Model\t: ARFIMA(2,0,7)\n",
              "Distribution\t: norm \n",
              "\n",
              "Optimal Parameters\n",
              "------------------------------------\n",
              "       Estimate  Std. Error  t value Pr(>|t|)\n",
              "mu      1.69937    0.194139   8.7534 0.000000\n",
              "ar1     1.78032    0.123001  14.4741 0.000000\n",
              "ar2    -0.84949    0.116532  -7.2898 0.000000\n",
              "ma1    -0.78580    0.125062  -6.2833 0.000000\n",
              "ma2     0.00000          NA       NA       NA\n",
              "ma3     0.00000          NA       NA       NA\n",
              "ma4     0.00000          NA       NA       NA\n",
              "ma5     0.00000          NA       NA       NA\n",
              "ma6     0.00000          NA       NA       NA\n",
              "ma7     0.21046    0.115038   1.8295 0.067331\n",
              "sigma   0.44954    0.031021  14.4914 0.000000\n",
              "\n",
              "Robust Standard Errors:\n",
              "       Estimate  Std. Error  t value Pr(>|t|)\n",
              "mu      1.69937    0.430196   3.9502 0.000078\n",
              "ar1     1.78032    0.075415  23.6069 0.000000\n",
              "ar2    -0.84949    0.083277 -10.2009 0.000000\n",
              "ma1    -0.78580    0.097009  -8.1003 0.000000\n",
              "ma2     0.00000          NA       NA       NA\n",
              "ma3     0.00000          NA       NA       NA\n",
              "ma4     0.00000          NA       NA       NA\n",
              "ma5     0.00000          NA       NA       NA\n",
              "ma6     0.00000          NA       NA       NA\n",
              "ma7     0.21046    0.199252   1.0562 0.290862\n",
              "sigma   0.44954    0.049530   9.0760 0.000000\n",
              "\n",
              "LogLikelihood : -65.0368 \n",
              "\n",
              "Information Criteria\n",
              "------------------------------------\n",
              "                   \n",
              "Akaike       1.3531\n",
              "Bayes        1.5047\n",
              "Shibata      1.3470\n",
              "Hannan-Quinn 1.4145\n",
              "\n",
              "Weighted Ljung-Box Test on Standardized Residuals\n",
              "------------------------------------\n",
              "                         statistic p-value\n",
              "Lag[1]                     0.06279  0.8021\n",
              "Lag[2*(p+q)+(p+q)-1][26]   5.00018  1.0000\n",
              "Lag[4*(p+q)+(p+q)-1][44]   9.77899  1.0000\n",
              "\n",
              "H0 : No serial correlation\n",
              "\n",
              "Weighted Ljung-Box Test on Standardized Squared Residuals\n",
              "------------------------------------\n",
              "                        statistic p-value\n",
              "Lag[1]                      6.079 0.01368\n",
              "Lag[2*(p+q)+(p+q)-1][2]     6.228 0.01913\n",
              "Lag[4*(p+q)+(p+q)-1][5]     6.384 0.07297\n",
              "\n",
              "\n",
              "ARCH LM Tests\n",
              "------------------------------------\n",
              "             Statistic DoF P-Value\n",
              "ARCH Lag[2]      7.028   2 0.02978\n",
              "ARCH Lag[5]      2.611   5 0.75967\n",
              "ARCH Lag[10]     4.975  10 0.89281\n",
              "\n",
              "Nyblom stability test\n",
              "------------------------------------\n",
              "Joint Statistic:  1.3454\n",
              "Individual Statistics:             \n",
              "mu    0.09095\n",
              "ar1   0.36855\n",
              "ar2   0.25960\n",
              "ma1   0.47105\n",
              "ma7   0.19230\n",
              "sigma 0.49276\n",
              "\n",
              "Asymptotic Critical Values (10% 5% 1%)\n",
              "Joint Statistic:     \t 1.49 1.68 2.12\n",
              "Individual Statistic:\t 0.35 0.47 0.75\n",
              "\n",
              "\n",
              "Elapsed time : 0.1392052 \n"
            ]
          },
          "metadata": {}
        },
        {
          "output_type": "display_data",
          "data": {
            "text/plain": [
              "\n",
              "*----------------------------------*\n",
              "*          ARFIMA Model Fit        *\n",
              "*----------------------------------*\n",
              "Mean Model\t: ARFIMA(2,0,7)\n",
              "Distribution\t: norm \n",
              "\n",
              "Optimal Parameters\n",
              "------------------------------------\n",
              "       Estimate  Std. Error  t value Pr(>|t|)\n",
              "mu      1.10514    0.171320   6.4507 0.000000\n",
              "ar1     0.33133    0.124165   2.6684 0.007621\n",
              "ar2     0.41511    0.118878   3.4919 0.000480\n",
              "ma1     0.80255    0.092236   8.7011 0.000000\n",
              "ma2     0.00000          NA       NA       NA\n",
              "ma3     0.00000          NA       NA       NA\n",
              "ma4     0.00000          NA       NA       NA\n",
              "ma5     0.00000          NA       NA       NA\n",
              "ma6     0.00000          NA       NA       NA\n",
              "ma7    -0.13211    0.039649  -3.3319 0.000863\n",
              "sigma   0.46511    0.023673  19.6469 0.000000\n",
              "\n",
              "Robust Standard Errors:\n",
              "       Estimate  Std. Error  t value Pr(>|t|)\n",
              "mu      1.10514    0.159479   6.9297 0.000000\n",
              "ar1     0.33133    0.162277   2.0417 0.041178\n",
              "ar2     0.41511    0.159083   2.6094 0.009071\n",
              "ma1     0.80255    0.132015   6.0793 0.000000\n",
              "ma2     0.00000          NA       NA       NA\n",
              "ma3     0.00000          NA       NA       NA\n",
              "ma4     0.00000          NA       NA       NA\n",
              "ma5     0.00000          NA       NA       NA\n",
              "ma6     0.00000          NA       NA       NA\n",
              "ma7    -0.13211    0.042304  -3.1228 0.001792\n",
              "sigma   0.46511    0.039994  11.6295 0.000000\n",
              "\n",
              "LogLikelihood : -126.1163 \n",
              "\n",
              "Information Criteria\n",
              "------------------------------------\n",
              "                   \n",
              "Akaike       1.3691\n",
              "Bayes        1.4705\n",
              "Shibata      1.3672\n",
              "Hannan-Quinn 1.4102\n",
              "\n",
              "Weighted Ljung-Box Test on Standardized Residuals\n",
              "------------------------------------\n",
              "                         statistic p-value\n",
              "Lag[1]                   4.393e-04  0.9833\n",
              "Lag[2*(p+q)+(p+q)-1][26] 1.040e+01  1.0000\n",
              "Lag[4*(p+q)+(p+q)-1][44] 1.770e+01  0.9231\n",
              "\n",
              "H0 : No serial correlation\n",
              "\n",
              "Weighted Ljung-Box Test on Standardized Squared Residuals\n",
              "------------------------------------\n",
              "                        statistic   p-value\n",
              "Lag[1]                      0.441 5.066e-01\n",
              "Lag[2*(p+q)+(p+q)-1][2]     3.553 9.949e-02\n",
              "Lag[4*(p+q)+(p+q)-1][5]    18.465 5.111e-05\n",
              "\n",
              "\n",
              "ARCH LM Tests\n",
              "------------------------------------\n",
              "             Statistic DoF   P-Value\n",
              "ARCH Lag[2]      6.334   2 4.212e-02\n",
              "ARCH Lag[5]     28.788   5 2.552e-05\n",
              "ARCH Lag[10]    46.276  10 1.278e-06\n",
              "\n",
              "Nyblom stability test\n",
              "------------------------------------\n",
              "Joint Statistic:  1.0474\n",
              "Individual Statistics:             \n",
              "mu    0.19974\n",
              "ar1   0.03621\n",
              "ar2   0.07538\n",
              "ma1   0.07710\n",
              "ma7   0.09298\n",
              "sigma 0.45705\n",
              "\n",
              "Asymptotic Critical Values (10% 5% 1%)\n",
              "Joint Statistic:     \t 1.49 1.68 2.12\n",
              "Individual Statistic:\t 0.35 0.47 0.75\n",
              "\n",
              "\n",
              "Elapsed time : 0.1011174 \n"
            ]
          },
          "metadata": {}
        },
        {
          "output_type": "display_data",
          "data": {
            "text/html": [
              "2.313606490577"
            ],
            "text/markdown": "2.313606490577",
            "text/latex": "2.313606490577",
            "text/plain": [
              "[1] 2.313606"
            ]
          },
          "metadata": {}
        }
      ]
    },
    {
      "cell_type": "code",
      "source": [
        "\n",
        "#Создание дамми\n",
        "data$Indicator = 0\n",
        "data$Indicator[which(data$DATE==\"1982 Q1\"):nrow(data)]=1\n",
        "data$Indicator\n",
        "\n",
        "#Тестирование на изменение уровня\n",
        "spec.arma27.ex = arfimaspec(mean.model=list(armaOrder=c(2,7),include.mean=TRUE,\n",
        "                                            external.regressors=matrix(data$Indicator)),\n",
        "                            fixed.pars=list(ma2=0,ma3=0,ma4=0,ma5=0,ma6=0))\n",
        "fit.arma27.ex = arfimafit(spec=spec.arma27.ex,data=data$spread)\n",
        "fit.arma27.ex\n",
        "\n",
        "# p-value = 0.25, т.е. H0: D = 0 не отвергается"
      ],
      "metadata": {
        "colab": {
          "base_uri": "https://localhost:8080/",
          "height": 1000
        },
        "id": "TtXSTqPKyirO",
        "outputId": "e67ee136-b411-42b2-cb19-9c6fc9d725d3"
      },
      "execution_count": null,
      "outputs": [
        {
          "output_type": "display_data",
          "data": {
            "text/html": [
              "<style>\n",
              ".list-inline {list-style: none; margin:0; padding: 0}\n",
              ".list-inline>li {display: inline-block}\n",
              ".list-inline>li:not(:last-child)::after {content: \"\\00b7\"; padding: 0 .5ex}\n",
              "</style>\n",
              "<ol class=list-inline><li>0</li><li>0</li><li>0</li><li>0</li><li>0</li><li>0</li><li>0</li><li>0</li><li>0</li><li>0</li><li>0</li><li>0</li><li>0</li><li>0</li><li>0</li><li>0</li><li>0</li><li>0</li><li>0</li><li>0</li><li>0</li><li>0</li><li>0</li><li>0</li><li>0</li><li>0</li><li>0</li><li>0</li><li>0</li><li>0</li><li>0</li><li>0</li><li>0</li><li>0</li><li>0</li><li>0</li><li>0</li><li>0</li><li>0</li><li>0</li><li>0</li><li>0</li><li>0</li><li>0</li><li>0</li><li>0</li><li>0</li><li>0</li><li>0</li><li>0</li><li>0</li><li>0</li><li>0</li><li>0</li><li>0</li><li>0</li><li>0</li><li>0</li><li>0</li><li>0</li><li>0</li><li>0</li><li>0</li><li>0</li><li>0</li><li>0</li><li>0</li><li>0</li><li>0</li><li>0</li><li>0</li><li>0</li><li>0</li><li>0</li><li>0</li><li>0</li><li>0</li><li>0</li><li>0</li><li>0</li><li>0</li><li>0</li><li>0</li><li>0</li><li>0</li><li>0</li><li>0</li><li>0</li><li>1</li><li>1</li><li>1</li><li>1</li><li>1</li><li>1</li><li>1</li><li>1</li><li>1</li><li>1</li><li>1</li><li>1</li><li>1</li><li>1</li><li>1</li><li>1</li><li>1</li><li>1</li><li>1</li><li>1</li><li>1</li><li>1</li><li>1</li><li>1</li><li>1</li><li>1</li><li>1</li><li>1</li><li>1</li><li>1</li><li>1</li><li>1</li><li>1</li><li>1</li><li>1</li><li>1</li><li>1</li><li>1</li><li>1</li><li>1</li><li>1</li><li>1</li><li>1</li><li>1</li><li>1</li><li>1</li><li>1</li><li>1</li><li>1</li><li>1</li><li>1</li><li>1</li><li>1</li><li>1</li><li>1</li><li>1</li><li>1</li><li>1</li><li>1</li><li>1</li><li>1</li><li>1</li><li>1</li><li>1</li><li>1</li><li>1</li><li>1</li><li>1</li><li>1</li><li>1</li><li>1</li><li>1</li><li>1</li><li>1</li><li>1</li><li>1</li><li>1</li><li>1</li><li>1</li><li>1</li><li>1</li><li>1</li><li>1</li><li>1</li><li>1</li><li>1</li><li>1</li><li>1</li><li>1</li><li>1</li><li>1</li><li>1</li><li>1</li><li>1</li><li>1</li><li>1</li><li>1</li><li>1</li><li>1</li><li>1</li><li>1</li><li>1</li><li>1</li><li>1</li><li>1</li><li>1</li><li>1</li><li>1</li><li>1</li><li>1</li><li>1</li><li>1</li><li>1</li><li>1</li><li>1</li><li>1</li><li>1</li><li>1</li><li>1</li><li>1</li><li>1</li><li>1</li><li>1</li><li>1</li></ol>\n"
            ],
            "text/markdown": "1. 0\n2. 0\n3. 0\n4. 0\n5. 0\n6. 0\n7. 0\n8. 0\n9. 0\n10. 0\n11. 0\n12. 0\n13. 0\n14. 0\n15. 0\n16. 0\n17. 0\n18. 0\n19. 0\n20. 0\n21. 0\n22. 0\n23. 0\n24. 0\n25. 0\n26. 0\n27. 0\n28. 0\n29. 0\n30. 0\n31. 0\n32. 0\n33. 0\n34. 0\n35. 0\n36. 0\n37. 0\n38. 0\n39. 0\n40. 0\n41. 0\n42. 0\n43. 0\n44. 0\n45. 0\n46. 0\n47. 0\n48. 0\n49. 0\n50. 0\n51. 0\n52. 0\n53. 0\n54. 0\n55. 0\n56. 0\n57. 0\n58. 0\n59. 0\n60. 0\n61. 0\n62. 0\n63. 0\n64. 0\n65. 0\n66. 0\n67. 0\n68. 0\n69. 0\n70. 0\n71. 0\n72. 0\n73. 0\n74. 0\n75. 0\n76. 0\n77. 0\n78. 0\n79. 0\n80. 0\n81. 0\n82. 0\n83. 0\n84. 0\n85. 0\n86. 0\n87. 0\n88. 0\n89. 1\n90. 1\n91. 1\n92. 1\n93. 1\n94. 1\n95. 1\n96. 1\n97. 1\n98. 1\n99. 1\n100. 1\n101. 1\n102. 1\n103. 1\n104. 1\n105. 1\n106. 1\n107. 1\n108. 1\n109. 1\n110. 1\n111. 1\n112. 1\n113. 1\n114. 1\n115. 1\n116. 1\n117. 1\n118. 1\n119. 1\n120. 1\n121. 1\n122. 1\n123. 1\n124. 1\n125. 1\n126. 1\n127. 1\n128. 1\n129. 1\n130. 1\n131. 1\n132. 1\n133. 1\n134. 1\n135. 1\n136. 1\n137. 1\n138. 1\n139. 1\n140. 1\n141. 1\n142. 1\n143. 1\n144. 1\n145. 1\n146. 1\n147. 1\n148. 1\n149. 1\n150. 1\n151. 1\n152. 1\n153. 1\n154. 1\n155. 1\n156. 1\n157. 1\n158. 1\n159. 1\n160. 1\n161. 1\n162. 1\n163. 1\n164. 1\n165. 1\n166. 1\n167. 1\n168. 1\n169. 1\n170. 1\n171. 1\n172. 1\n173. 1\n174. 1\n175. 1\n176. 1\n177. 1\n178. 1\n179. 1\n180. 1\n181. 1\n182. 1\n183. 1\n184. 1\n185. 1\n186. 1\n187. 1\n188. 1\n189. 1\n190. 1\n191. 1\n192. 1\n193. 1\n194. 1\n195. 1\n196. 1\n197. 1\n198. 1\n199. 1\n200. 1\n201. 1\n202. 1\n203. 1\n204. 1\n205. 1\n206. 1\n207. 1\n208. 1\n209. 1\n210. 1\n211. 1\n212. 1\n\n\n",
            "text/latex": "\\begin{enumerate*}\n\\item 0\n\\item 0\n\\item 0\n\\item 0\n\\item 0\n\\item 0\n\\item 0\n\\item 0\n\\item 0\n\\item 0\n\\item 0\n\\item 0\n\\item 0\n\\item 0\n\\item 0\n\\item 0\n\\item 0\n\\item 0\n\\item 0\n\\item 0\n\\item 0\n\\item 0\n\\item 0\n\\item 0\n\\item 0\n\\item 0\n\\item 0\n\\item 0\n\\item 0\n\\item 0\n\\item 0\n\\item 0\n\\item 0\n\\item 0\n\\item 0\n\\item 0\n\\item 0\n\\item 0\n\\item 0\n\\item 0\n\\item 0\n\\item 0\n\\item 0\n\\item 0\n\\item 0\n\\item 0\n\\item 0\n\\item 0\n\\item 0\n\\item 0\n\\item 0\n\\item 0\n\\item 0\n\\item 0\n\\item 0\n\\item 0\n\\item 0\n\\item 0\n\\item 0\n\\item 0\n\\item 0\n\\item 0\n\\item 0\n\\item 0\n\\item 0\n\\item 0\n\\item 0\n\\item 0\n\\item 0\n\\item 0\n\\item 0\n\\item 0\n\\item 0\n\\item 0\n\\item 0\n\\item 0\n\\item 0\n\\item 0\n\\item 0\n\\item 0\n\\item 0\n\\item 0\n\\item 0\n\\item 0\n\\item 0\n\\item 0\n\\item 0\n\\item 0\n\\item 1\n\\item 1\n\\item 1\n\\item 1\n\\item 1\n\\item 1\n\\item 1\n\\item 1\n\\item 1\n\\item 1\n\\item 1\n\\item 1\n\\item 1\n\\item 1\n\\item 1\n\\item 1\n\\item 1\n\\item 1\n\\item 1\n\\item 1\n\\item 1\n\\item 1\n\\item 1\n\\item 1\n\\item 1\n\\item 1\n\\item 1\n\\item 1\n\\item 1\n\\item 1\n\\item 1\n\\item 1\n\\item 1\n\\item 1\n\\item 1\n\\item 1\n\\item 1\n\\item 1\n\\item 1\n\\item 1\n\\item 1\n\\item 1\n\\item 1\n\\item 1\n\\item 1\n\\item 1\n\\item 1\n\\item 1\n\\item 1\n\\item 1\n\\item 1\n\\item 1\n\\item 1\n\\item 1\n\\item 1\n\\item 1\n\\item 1\n\\item 1\n\\item 1\n\\item 1\n\\item 1\n\\item 1\n\\item 1\n\\item 1\n\\item 1\n\\item 1\n\\item 1\n\\item 1\n\\item 1\n\\item 1\n\\item 1\n\\item 1\n\\item 1\n\\item 1\n\\item 1\n\\item 1\n\\item 1\n\\item 1\n\\item 1\n\\item 1\n\\item 1\n\\item 1\n\\item 1\n\\item 1\n\\item 1\n\\item 1\n\\item 1\n\\item 1\n\\item 1\n\\item 1\n\\item 1\n\\item 1\n\\item 1\n\\item 1\n\\item 1\n\\item 1\n\\item 1\n\\item 1\n\\item 1\n\\item 1\n\\item 1\n\\item 1\n\\item 1\n\\item 1\n\\item 1\n\\item 1\n\\item 1\n\\item 1\n\\item 1\n\\item 1\n\\item 1\n\\item 1\n\\item 1\n\\item 1\n\\item 1\n\\item 1\n\\item 1\n\\item 1\n\\item 1\n\\item 1\n\\item 1\n\\item 1\n\\item 1\n\\item 1\n\\end{enumerate*}\n",
            "text/plain": [
              "  [1] 0 0 0 0 0 0 0 0 0 0 0 0 0 0 0 0 0 0 0 0 0 0 0 0 0 0 0 0 0 0 0 0 0 0 0 0 0\n",
              " [38] 0 0 0 0 0 0 0 0 0 0 0 0 0 0 0 0 0 0 0 0 0 0 0 0 0 0 0 0 0 0 0 0 0 0 0 0 0\n",
              " [75] 0 0 0 0 0 0 0 0 0 0 0 0 0 0 1 1 1 1 1 1 1 1 1 1 1 1 1 1 1 1 1 1 1 1 1 1 1\n",
              "[112] 1 1 1 1 1 1 1 1 1 1 1 1 1 1 1 1 1 1 1 1 1 1 1 1 1 1 1 1 1 1 1 1 1 1 1 1 1\n",
              "[149] 1 1 1 1 1 1 1 1 1 1 1 1 1 1 1 1 1 1 1 1 1 1 1 1 1 1 1 1 1 1 1 1 1 1 1 1 1\n",
              "[186] 1 1 1 1 1 1 1 1 1 1 1 1 1 1 1 1 1 1 1 1 1 1 1 1 1 1 1"
            ]
          },
          "metadata": {}
        },
        {
          "output_type": "display_data",
          "data": {
            "text/plain": [
              "\n",
              "*----------------------------------*\n",
              "*          ARFIMA Model Fit        *\n",
              "*----------------------------------*\n",
              "Mean Model\t: ARFIMA(2,0,7)\n",
              "Distribution\t: norm \n",
              "\n",
              "Optimal Parameters\n",
              "------------------------------------\n",
              "        Estimate  Std. Error  t value Pr(>|t|)\n",
              "mu       0.97020    0.178032   5.4496 0.000000\n",
              "ar1      0.29653    0.116440   2.5466 0.010877\n",
              "ar2      0.40661    0.107656   3.7769 0.000159\n",
              "ma1      0.81640    0.083125   9.8213 0.000000\n",
              "ma2      0.00000          NA       NA       NA\n",
              "ma3      0.00000          NA       NA       NA\n",
              "ma4      0.00000          NA       NA       NA\n",
              "ma5      0.00000          NA       NA       NA\n",
              "ma6      0.00000          NA       NA       NA\n",
              "ma7     -0.14513    0.036220  -4.0068 0.000062\n",
              "mxreg1   0.42251    0.259151   1.6303 0.103029\n",
              "sigma    0.45357    0.022027  20.5913 0.000000\n",
              "\n",
              "Robust Standard Errors:\n",
              "        Estimate  Std. Error  t value Pr(>|t|)\n",
              "mu       0.97020    0.179273   5.4119 0.000000\n",
              "ar1      0.29653    0.153262   1.9348 0.053019\n",
              "ar2      0.40661    0.146608   2.7734 0.005547\n",
              "ma1      0.81640    0.119938   6.8069 0.000000\n",
              "ma2      0.00000          NA       NA       NA\n",
              "ma3      0.00000          NA       NA       NA\n",
              "ma4      0.00000          NA       NA       NA\n",
              "ma5      0.00000          NA       NA       NA\n",
              "ma6      0.00000          NA       NA       NA\n",
              "ma7     -0.14513    0.037846  -3.8347 0.000126\n",
              "mxreg1   0.42251    0.370131   1.1415 0.253660\n",
              "sigma    0.45357    0.035717  12.6990 0.000000\n",
              "\n",
              "LogLikelihood : -133.2051 \n",
              "\n",
              "Information Criteria\n",
              "------------------------------------\n",
              "                   \n",
              "Akaike       1.3227\n",
              "Bayes        1.4335\n",
              "Shibata      1.3206\n",
              "Hannan-Quinn 1.3675\n",
              "\n",
              "Weighted Ljung-Box Test on Standardized Residuals\n",
              "------------------------------------\n",
              "                         statistic p-value\n",
              "Lag[1]                   8.205e-08  0.9998\n",
              "Lag[2*(p+q)+(p+q)-1][26] 1.238e+01  0.9738\n",
              "Lag[4*(p+q)+(p+q)-1][44] 2.082e+01  0.6691\n",
              "\n",
              "H0 : No serial correlation\n",
              "\n",
              "Weighted Ljung-Box Test on Standardized Squared Residuals\n",
              "------------------------------------\n",
              "                        statistic   p-value\n",
              "Lag[1]                     0.7014 4.023e-01\n",
              "Lag[2*(p+q)+(p+q)-1][2]    6.1912 1.956e-02\n",
              "Lag[4*(p+q)+(p+q)-1][5]   23.3829 2.251e-06\n",
              "\n",
              "\n",
              "ARCH LM Tests\n",
              "------------------------------------\n",
              "             Statistic DoF   P-Value\n",
              "ARCH Lag[2]      11.11   2 3.873e-03\n",
              "ARCH Lag[5]      32.17   5 5.500e-06\n",
              "ARCH Lag[10]     47.90  10 6.461e-07\n",
              "\n",
              "Nyblom stability test\n",
              "------------------------------------\n",
              "Joint Statistic:  0.9407\n",
              "Individual Statistics:              \n",
              "mu     0.05615\n",
              "ar1    0.04836\n",
              "ar2    0.10899\n",
              "ma1    0.10862\n",
              "ma7    0.09624\n",
              "mxreg1 0.04182\n",
              "sigma  0.46833\n",
              "\n",
              "Asymptotic Critical Values (10% 5% 1%)\n",
              "Joint Statistic:     \t 1.69 1.9 2.35\n",
              "Individual Statistic:\t 0.35 0.47 0.75\n",
              "\n",
              "\n",
              "Elapsed time : 0.117012 \n"
            ]
          },
          "metadata": {}
        }
      ]
    },
    {
      "cell_type": "code",
      "source": [
        "###############################################################\n",
        "# - 7 -\n",
        "###############################################################\n",
        "### Сдвиг\n",
        "rm(list=ls())\n",
        "library(\"Ecdat\")\n",
        "Break <- read.csv(\"y_break.csv\")\n",
        "br = Break[,-1]"
      ],
      "metadata": {
        "id": "HpBSUeiF15bM"
      },
      "execution_count": null,
      "outputs": []
    },
    {
      "cell_type": "code",
      "source": [
        "# - 7.1 -\n",
        "\n",
        "plot(Break$ENTRY,br,type=\"l\",xax=\"i\",las=1,xaxs=\"i\",tck=0.02,col=1,xlab=\"\",ylab=\"\")"
      ],
      "metadata": {
        "colab": {
          "base_uri": "https://localhost:8080/",
          "height": 652
        },
        "id": "G0wQHmFP18wi",
        "outputId": "36c836f0-3dcc-4ef6-cd6c-dbba11eb76d2"
      },
      "execution_count": null,
      "outputs": [
        {
          "output_type": "stream",
          "name": "stderr",
          "text": [
            "Warning message in plot.window(...):\n",
            "“\"xax\" is not a graphical parameter”\n",
            "Warning message in plot.xy(xy, type, ...):\n",
            "“\"xax\" is not a graphical parameter”\n",
            "Warning message in axis(side = side, at = at, labels = labels, ...):\n",
            "“\"xax\" is not a graphical parameter”\n",
            "Warning message in axis(side = side, at = at, labels = labels, ...):\n",
            "“\"xax\" is not a graphical parameter”\n",
            "Warning message in box(...):\n",
            "“\"xax\" is not a graphical parameter”\n",
            "Warning message in title(...):\n",
            "“\"xax\" is not a graphical parameter”\n"
          ]
        },
        {
          "output_type": "display_data",
          "data": {
            "text/plain": [
              "plot without title"
            ],
            "image/png": "[encoded data removed]"
          },
          "metadata": {
            "image/png": {
              "width": 420,
              "height": 420
            }
          }
        }
      ]
    },
    {
      "cell_type": "code",
      "source": [
        "\n",
        "\n",
        "# - 7.2 -\n",
        "\n",
        "spec.ar1 = arfimaspec(mean.model=list(armaOrder=c(1,0),include.mean=TRUE))\n",
        "fit.ar1 = arfimafit(spec.ar1,data=br)\n",
        "fit.ar1\n",
        "fit.ar1@fit$coef[1]*(1-fit.ar1@fit$coef[2]) \n",
        "# arma(br, order=c(1,0)) # both are correct however one shows the unconditional mean and the other the intercept\n",
        "\n",
        "Break$Indicator=1\n",
        "Break$Indicator[1:100]=0\n",
        "break_y = embed(as.matrix(Break),2)\n",
        "break_y = break_y[,-c(1,4,6)]\n",
        "\n",
        "### \n",
        "summary(lm(break_y[,1]~break_y[,3]+break_y[,2]))\n",
        "summary(lm(break_y[,1]~break_y[,3]+break_y[,2]+I(break_y[,3]*break_y[,2])))\n",
        "\n",
        "arima(br,c(1,0,0))\n",
        "arima(br[c(1:100)],c(1,0,0))\n",
        "arima(br[-c(1:100)],c(1,0,0))"
      ],
      "metadata": {
        "colab": {
          "base_uri": "https://localhost:8080/",
          "height": 1000
        },
        "id": "_4LSNYac2Erx",
        "outputId": "95d0ed61-8dc8-4ef1-ff33-28eb304c89eb"
      },
      "execution_count": null,
      "outputs": [
        {
          "output_type": "display_data",
          "data": {
            "text/plain": [
              "\n",
              "*----------------------------------*\n",
              "*          ARFIMA Model Fit        *\n",
              "*----------------------------------*\n",
              "Mean Model\t: ARFIMA(1,0,0)\n",
              "Distribution\t: norm \n",
              "\n",
              "Optimal Parameters\n",
              "------------------------------------\n",
              "       Estimate  Std. Error  t value Pr(>|t|)\n",
              "mu      3.16364    0.718538   4.4029  1.1e-05\n",
              "ar1     0.88736    0.040436  21.9449  0.0e+00\n",
              "sigma   1.14681    0.066211  17.3205  0.0e+00\n",
              "\n",
              "Robust Standard Errors:\n",
              "       Estimate  Std. Error  t value Pr(>|t|)\n",
              "mu      3.16364    0.569808   5.5521        0\n",
              "ar1     0.88736    0.045582  19.4673        0\n",
              "sigma   1.14681    0.067381  17.0197        0\n",
              "\n",
              "LogLikelihood : -233.3879 \n",
              "\n",
              "Information Criteria\n",
              "------------------------------------\n",
              "                   \n",
              "Akaike       3.1518\n",
              "Bayes        3.2121\n",
              "Shibata      3.1511\n",
              "Hannan-Quinn 3.1763\n",
              "\n",
              "Weighted Ljung-Box Test on Standardized Residuals\n",
              "------------------------------------\n",
              "                        statistic   p-value\n",
              "Lag[1]                      4.823 0.0280750\n",
              "Lag[2*(p+q)+(p+q)-1][2]     4.927 0.0005201\n",
              "Lag[4*(p+q)+(p+q)-1][5]     7.495 0.0122673\n",
              "\n",
              "H0 : No serial correlation\n",
              "\n",
              "Weighted Ljung-Box Test on Standardized Squared Residuals\n",
              "------------------------------------\n",
              "                        statistic p-value\n",
              "Lag[1]                      1.530  0.2161\n",
              "Lag[2*(p+q)+(p+q)-1][2]     1.712  0.3153\n",
              "Lag[4*(p+q)+(p+q)-1][5]     2.031  0.6110\n",
              "\n",
              "\n",
              "ARCH LM Tests\n",
              "------------------------------------\n",
              "             Statistic DoF P-Value\n",
              "ARCH Lag[2]      1.721   2  0.4230\n",
              "ARCH Lag[5]      2.610   5  0.7598\n",
              "ARCH Lag[10]     4.337  10  0.9309\n",
              "\n",
              "Nyblom stability test\n",
              "------------------------------------\n",
              "Joint Statistic:  2.4549\n",
              "Individual Statistics:            \n",
              "mu    0.7051\n",
              "ar1   1.3471\n",
              "sigma 0.4993\n",
              "\n",
              "Asymptotic Critical Values (10% 5% 1%)\n",
              "Joint Statistic:     \t 0.846 1.01 1.35\n",
              "Individual Statistic:\t 0.35 0.47 0.75\n",
              "\n",
              "\n",
              "Elapsed time : 0.02347445 \n"
            ]
          },
          "metadata": {}
        },
        {
          "output_type": "display_data",
          "data": {
            "text/html": [
              "<strong>mu:</strong> 0.356344181538341"
            ],
            "text/markdown": "**mu:** 0.356344181538341",
            "text/latex": "\\textbf{mu:} 0.356344181538341",
            "text/plain": [
              "       mu \n",
              "0.3563442 "
            ]
          },
          "metadata": {}
        },
        {
          "output_type": "display_data",
          "data": {
            "text/plain": [
              "\n",
              "Call:\n",
              "lm(formula = break_y[, 1] ~ break_y[, 3] + break_y[, 2])\n",
              "\n",
              "Residuals:\n",
              "    Min      1Q  Median      3Q     Max \n",
              "-2.1787 -0.7761 -0.0261  0.6999  2.9528 \n",
              "\n",
              "Coefficients:\n",
              "             Estimate Std. Error t value Pr(>|t|)    \n",
              "(Intercept)   0.92541    0.17264   5.360 3.17e-07 ***\n",
              "break_y[, 3]  0.56828    0.06379   8.909 1.89e-15 ***\n",
              "break_y[, 2]  1.93626    0.32904   5.885 2.62e-08 ***\n",
              "---\n",
              "Signif. codes:  0 ‘***’ 0.001 ‘**’ 0.01 ‘*’ 0.05 ‘.’ 0.1 ‘ ’ 1\n",
              "\n",
              "Residual standard error: 1.04 on 146 degrees of freedom\n",
              "Multiple R-squared:  0.8214,\tAdjusted R-squared:  0.8189 \n",
              "F-statistic: 335.7 on 2 and 146 DF,  p-value: < 2.2e-16\n"
            ]
          },
          "metadata": {}
        },
        {
          "output_type": "display_data",
          "data": {
            "text/plain": [
              "\n",
              "Call:\n",
              "lm(formula = break_y[, 1] ~ break_y[, 3] + break_y[, 2] + I(break_y[, \n",
              "    3] * break_y[, 2]))\n",
              "\n",
              "Residuals:\n",
              "     Min       1Q   Median       3Q      Max \n",
              "-1.97232 -0.66699  0.03538  0.54710  2.54346 \n",
              "\n",
              "Coefficients:\n",
              "                               Estimate Std. Error t value Pr(>|t|)    \n",
              "(Intercept)                     1.60151    0.22187   7.218 2.73e-11 ***\n",
              "break_y[, 3]                    0.25449    0.09232   2.757  0.00659 ** \n",
              "break_y[, 2]                   -0.22442    0.57377  -0.391  0.69628    \n",
              "I(break_y[, 3] * break_y[, 2])  0.54327    0.12148   4.472 1.55e-05 ***\n",
              "---\n",
              "Signif. codes:  0 ‘***’ 0.001 ‘**’ 0.01 ‘*’ 0.05 ‘.’ 0.1 ‘ ’ 1\n",
              "\n",
              "Residual standard error: 0.9778 on 145 degrees of freedom\n",
              "Multiple R-squared:  0.843,\tAdjusted R-squared:  0.8398 \n",
              "F-statistic: 259.6 on 3 and 145 DF,  p-value: < 2.2e-16\n"
            ]
          },
          "metadata": {}
        },
        {
          "output_type": "display_data",
          "data": {
            "text/plain": [
              "\n",
              "Call:\n",
              "arima(x = br, order = c(1, 0, 0))\n",
              "\n",
              "Coefficients:\n",
              "         ar1  intercept\n",
              "      0.8791     3.6003\n",
              "s.e.  0.0375     0.7366\n",
              "\n",
              "sigma^2 estimated as 1.306:  log likelihood = -233.58,  aic = 473.16"
            ]
          },
          "metadata": {}
        },
        {
          "output_type": "display_data",
          "data": {
            "text/plain": [
              "\n",
              "Call:\n",
              "arima(x = br[c(1:100)], order = c(1, 0, 0))\n",
              "\n",
              "Coefficients:\n",
              "         ar1  intercept\n",
              "      0.2520     2.1458\n",
              "s.e.  0.0963     0.1367\n",
              "\n",
              "sigma^2 estimated as 1.053:  log likelihood = -144.51,  aic = 295.02"
            ]
          },
          "metadata": {}
        },
        {
          "output_type": "display_data",
          "data": {
            "text/plain": [
              "\n",
              "Call:\n",
              "arima(x = br[-c(1:100)], order = c(1, 0, 0))\n",
              "\n",
              "Coefficients:\n",
              "         ar1  intercept\n",
              "      0.8776     6.0700\n",
              "s.e.  0.0668     0.8549\n",
              "\n",
              "sigma^2 estimated as 0.655:  log likelihood = -61.1,  aic = 128.21"
            ]
          },
          "metadata": {}
        }
      ]
    },
    {
      "cell_type": "code",
      "source": [
        "# - 7.3 -\n",
        "# AR1\n",
        "# CUMSUM слайд 59\n",
        "forecasts = NULL\n",
        "for (i in 1:(length(br)-2)){\n",
        "  model = arima(br[1:(2+i-1)],c(1,0,0))\n",
        "  forecasts[i] = forecast(model,h=1)$mean # Gives the one-step forecast\n",
        "}\n",
        "res = br[-c(1:2)]-forecasts"
      ],
      "metadata": {
        "id": "ATjcFa2h4Tiq"
      },
      "execution_count": null,
      "outputs": []
    },
    {
      "cell_type": "code",
      "source": [
        "\n",
        "\n",
        "\n",
        "\n",
        "# \n",
        "# INTERCEPT PLOT \n",
        "slope.est=intercept.est=slope.sigma.est=int.sigma.est=NULL\n",
        "for (i in 1:(length(br)-3)){\n",
        "  y.br = embed(br[1:(3+i)],2)\n",
        "  model=lm(y.br[,1]~y.br[,-1])\n",
        "  intercept.est[i]=coef(model)[1]\n",
        "  slope.est[i]=coef(model)[2]\n",
        "  int.sigma.est[i]=summary(model)$coefficients[1,2]\n",
        "  slope.sigma.est[i]=summary(model)$coefficients[2,2]\n",
        "}\n",
        "\n",
        "int.upper.band=intercept.est+2*int.sigma.est\n",
        "int.lower.band=intercept.est-2*int.sigma.est\n",
        "slope.upper.band=slope.est+2*slope.sigma.est\n",
        "slope.lower.band=slope.est-2*slope.sigma.est\n",
        "\n",
        "\n",
        "plot(intercept.est, type=\"l\",xlab=\"\",ylab=\"\",ylim=c(-2,4),xaxs=\"i\",las=1,main=\"Intercept\")\n",
        "lines(int.upper.band, col=\"steelblue4\")\n",
        "lines(int.lower.band, col=\"steelblue4\")\n",
        "\n",
        "dev.off()\n",
        "plot(slope.est, type=\"l\",xlab=\"\",ylab=\"\",ylim=c(-2,2),xaxs=\"i\",las=1,tck=.02,main=\"Autoregressive Parameter\")\n",
        "lines(slope.upper.band, col=\"steelblue4\")\n",
        "lines(slope.lower.band, col=\"steelblue4\")\n",
        "abline(h=0,lty=2)"
      ],
      "metadata": {
        "colab": {
          "base_uri": "https://localhost:8080/",
          "height": 454
        },
        "id": "3lfQ84154Wyy",
        "outputId": "49e7e56e-82cd-4755-b222-766f8d31c085"
      },
      "execution_count": null,
      "outputs": [
        {
          "output_type": "display_data",
          "data": {
            "text/html": [
              "<strong>null device:</strong> 1"
            ],
            "text/markdown": "**null device:** 1",
            "text/latex": "\\textbf{null device:} 1",
            "text/plain": [
              "null device \n",
              "          1 "
            ]
          },
          "metadata": {}
        },
        {
          "output_type": "display_data",
          "data": {
            "text/plain": [
              "Plot with title “Intercept”"
            ],
            "image/png": "[encoded data removed]"
          },
          "metadata": {
            "image/png": {
              "width": 420,
              "height": 420
            }
          }
        }
      ]
    },
    {
      "cell_type": "code",
      "execution_count": null,
      "metadata": {
        "colab": {
          "base_uri": "https://localhost:8080/",
          "height": 437
        },
        "id": "wRY06JqljUjR",
        "outputId": "8dde9a7f-b7b0-4858-fd68-809e02d134a4"
      },
      "outputs": [
        {
          "output_type": "display_data",
          "data": {
            "text/plain": [
              "Plot with title “The CUMSUM Test”"
            ],
            "image/png": "[encoded data removed]"
          },
          "metadata": {
            "image/png": {
              "width": 420,
              "height": 420
            }
          }
        }
      ],
      "source": [
        "\n",
        "\n",
        "# - 7.4 -\n",
        "# слайд 60\n",
        "\n",
        "CUMSUM=NULL\n",
        "for (i in 1:length(br)){\n",
        "  CUMSUM=c(CUMSUM,sum(res[1:i])/sd(res))\n",
        "}\n",
        "\n",
        "lower=upper=NULL\n",
        "for (i in 1:length(br)){\n",
        "  upper[i]= 0.948*(length(br)^0.5)+2*(i-1)*(length(br)^-0.5)\n",
        "  lower[i]=-0.948*(length(br)^0.5)-2*(i-1)*(length(br)^-0.5)\n",
        "}\n",
        "\n",
        "plot(CUMSUM, type=\"l\", xlim=c(0,150),ylim=c(-40,50),las=1,xaxs=\"i\",xlab=\"\",ylab=\"\",tck=0.02,main=\"The CUMSUM Test\")\n",
        "lines(upper, col=\"steelblue4\",lty=2)\n",
        "lines(lower, col=\"steelblue4\",lty=2)\n",
        "abline(h=0,lty=2)\n",
        "\n"
      ]
    }
  ]
}